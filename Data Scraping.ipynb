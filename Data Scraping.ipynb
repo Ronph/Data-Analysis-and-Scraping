{
 "cells": [
  {
   "cell_type": "code",
   "execution_count": null,
   "id": "initial_id",
   "metadata": {
    "collapsed": true,
    "ExecuteTime": {
     "end_time": "2025-03-04T16:43:21.272513600Z",
     "start_time": "2025-03-04T16:43:21.272513600Z"
    }
   },
   "outputs": [],
   "source": [
    "import pandas as pd\n",
    "\n",
    "# The dataframe column names were hard coded due to it being substantially easier to extract the customer details by hand, and it only needing to be done once\n",
    "column_names = [\"Date of Sale\", \"Product\", \"Product Category\", \"Quantity\", \"Total Price\", \"Total Profit\", \"Payment Type\", \"Customer Age Category\", \"Customer Location\", \"Customer ID\", \"Customer Gender\"]\n",
    "\n",
    "df = pd.DataFrame(columns= column_names) "
   ]
  },
  {
   "cell_type": "markdown",
   "source": [
    "The function below sorts the customer data to make sure no data is lost and to make it so it is always in the same order."
   ],
   "metadata": {
    "collapsed": false
   },
   "id": "3eb79468394e3095"
  },
  {
   "cell_type": "code",
   "execution_count": null,
   "outputs": [],
   "source": [
    "def loopy_loop(index, split_details):\n",
    "    titles = [\"Age\", \"Category:\", \"Location:\", \"ID:\", \"Gender:\"]\n",
    "    keep_going = True\n",
    "    final_string = \"\"\n",
    "    prev = False\n",
    "\n",
    "    while keep_going:\n",
    "        if index == len(split_details) or split_details[index] in titles:\n",
    "            return final_string, index\n",
    "        else:\n",
    "            if prev:\n",
    "                final_string = final_string + \" \" + split_details[index]\n",
    "                index += 1\n",
    "            else:\n",
    "                final_string = final_string + split_details[index]\n",
    "                index += 1\n",
    "                prev = True"
   ],
   "metadata": {
    "collapsed": false,
    "ExecuteTime": {
     "start_time": "2025-03-04T16:43:21.272513600Z"
    }
   },
   "id": "9dbb96ceda4c8da6"
  },
  {
   "cell_type": "markdown",
   "source": [
    "The function below extract the customer data and return the cleaned version of it, so it can be added to the dataframe without any issue or future issue. "
   ],
   "metadata": {
    "collapsed": false
   },
   "id": "a79958812c8f367b"
  },
  {
   "cell_type": "code",
   "execution_count": null,
   "outputs": [],
   "source": [
    "def extract_customer_details(details):\n",
    "    titles = [\"Age\", \"Category:\", \"Location:\", \"ID:\", \"Gender:\"]\n",
    "    split_details = details.split(\" \")\n",
    "    list_data = [None, None, None, None]\n",
    "    current_index = 0\n",
    "\n",
    "    for i in range(0, len(titles) - 1):\n",
    "        if split_details[current_index] == \"Age\":\n",
    "            current_index += 2\n",
    "            final_string, current_index = loopy_loop(current_index, split_details)\n",
    "            list_data[0] = final_string\n",
    "        elif split_details[current_index] == \"Location:\":\n",
    "            current_index += 1\n",
    "            final_string, current_index = loopy_loop(current_index, split_details)\n",
    "            list_data[1] = final_string\n",
    "        elif split_details[current_index] == \"ID:\":\n",
    "            current_index += 1\n",
    "            final_string, current_index = loopy_loop(current_index, split_details)\n",
    "            list_data[2] = final_string\n",
    "        elif split_details[current_index] == \"Gender:\":\n",
    "            current_index += 1\n",
    "            final_string, current_index = loopy_loop(current_index, split_details)\n",
    "            list_data[3] = final_string\n",
    "            \n",
    "    return list_data"
   ],
   "metadata": {
    "collapsed": false,
    "ExecuteTime": {
     "start_time": "2025-03-04T16:43:21.272513600Z"
    }
   },
   "id": "db737627d645c256"
  },
  {
   "cell_type": "markdown",
   "source": [
    "The code below is the core of the scraping. It simply pulls the data from the retails sales and then proceeds to take special action regarding the customer details by calling the function above."
   ],
   "metadata": {
    "collapsed": false
   },
   "id": "21ad73fc49c752fe"
  },
  {
   "cell_type": "code",
   "execution_count": null,
   "outputs": [],
   "source": [
    "for k in range(1, 5):\n",
    "    for i in range(1, 18): # the pages never go further than 17 pages and there are only 15 pages for Quarter 1, 2, and 4\n",
    "        if k in [1,2,4] and i < 16 or k == 3:\n",
    "            page = \"\"\n",
    "            if i < 10:\n",
    "                page = \"0\"+str(i)\n",
    "            else:\n",
    "                page = str(i)\n",
    "            quarter = str(k)\n",
    "            URL = 'http://mlg.ucd.ie/modules/python/assignment1/retail/2024Q' + quarter + '-page' +page+ '.html' # Here we have two variable to make sure every quarter and page is scraped\n",
    "            tables = pd.read_html(URL)\n",
    "            \n",
    "            for j in range(0, len(tables)):\n",
    "                data = []\n",
    "                for i in range(0, 7):\n",
    "                    data.append(tables[j][1][i])\n",
    "                \n",
    "                temp_data = extract_customer_details(tables[j][1][7])\n",
    "                data = [data + temp_data]\n",
    "        \n",
    "                temp_df = pd.DataFrame(data, columns=column_names)\n",
    "                df = pd.concat([df, temp_df], ignore_index=True)\n",
    "\n",
    "df.to_csv('scraped_retail_data.csv')"
   ],
   "metadata": {
    "collapsed": false,
    "ExecuteTime": {
     "start_time": "2025-03-04T16:43:21.272513600Z"
    }
   },
   "id": "2daf646da221f985"
  },
  {
   "cell_type": "code",
   "execution_count": null,
   "outputs": [],
   "source": [],
   "metadata": {
    "collapsed": false,
    "ExecuteTime": {
     "start_time": "2025-03-04T16:43:21.272513600Z"
    }
   },
   "id": "110d5fe7e949776c"
  }
 ],
 "metadata": {
  "kernelspec": {
   "display_name": "Python 3",
   "language": "python",
   "name": "python3"
  },
  "language_info": {
   "codemirror_mode": {
    "name": "ipython",
    "version": 2
   },
   "file_extension": ".py",
   "mimetype": "text/x-python",
   "name": "python",
   "nbconvert_exporter": "python",
   "pygments_lexer": "ipython2",
   "version": "2.7.6"
  }
 },
 "nbformat": 4,
 "nbformat_minor": 5
}
